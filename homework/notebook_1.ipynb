{
 "cells": [
  {
   "cell_type": "code",
   "execution_count": 2,
   "id": "b6c03660",
   "metadata": {},
   "outputs": [
    {
     "ename": "AttributeError",
     "evalue": "module 'functions' has no attribute 'load_data'",
     "output_type": "error",
     "traceback": [
      "\u001b[31m---------------------------------------------------------------------------\u001b[39m",
      "\u001b[31mAttributeError\u001b[39m                            Traceback (most recent call last)",
      "\u001b[36mCell\u001b[39m\u001b[36m \u001b[39m\u001b[32mIn[2]\u001b[39m\u001b[32m, line 4\u001b[39m\n\u001b[32m      1\u001b[39m \u001b[38;5;28;01mimport\u001b[39;00m\u001b[38;5;250m \u001b[39m\u001b[34;01mfunctions\u001b[39;00m  \u001b[38;5;66;03m#  type: ignore\u001b[39;00m\n\u001b[32m----> \u001b[39m\u001b[32m4\u001b[39m df_orig = \u001b[43mfunctions\u001b[49m\u001b[43m.\u001b[49m\u001b[43mload_data\u001b[49m()\n\u001b[32m      5\u001b[39m display(df_orig.head())\n\u001b[32m      6\u001b[39m display(df_orig.shape)\n",
      "\u001b[31mAttributeError\u001b[39m: module 'functions' has no attribute 'load_data'"
     ]
    }
   ],
   "source": [
    "import functions  #  type: ignore\n",
    "\n",
    "\n",
    "df_orig = functions.load_data()\n",
    "display(df_orig.head())\n",
    "display(df_orig.shape)"
   ]
  },
  {
   "cell_type": "code",
   "execution_count": null,
   "id": "cc67147a",
   "metadata": {},
   "outputs": [],
   "source": [
    "#\n",
    "# Grafico de la serie\n",
    "# La serie correspondiente al número total de personas empleadas\n",
    "# mensualmente como mano de obra en el condado de Sutter\n",
    "# (California) entre 1946:01 y 1966:12. Se deben usar los primeros\n",
    "# 228 (de 1946:1 a 1964:12) datos para especificar el modelo y los\n",
    "# 24 datos restantes (1965:1 a 1966:12) para evaluar el pronóstico\n",
    "# un mes adelante por fuera de la muestra de calibración de\n",
    "# los parámetros.\n",
    "#\n",
    "functions.plot_time_series(df_orig)"
   ]
  },
  {
   "cell_type": "code",
   "execution_count": null,
   "id": "744c50da",
   "metadata": {},
   "outputs": [],
   "source": [
    "#\n",
    "# Autocorrelograma simple\n",
    "#\n",
    "functions.acf_pacf_plots(df_orig.yt_true)"
   ]
  },
  {
   "cell_type": "code",
   "execution_count": null,
   "id": "fcc1ddb5",
   "metadata": {},
   "outputs": [],
   "source": [
    "#\n",
    "# Autocorrelograma simple\n",
    "#\n",
    "functions.acf_pacf_plots(df_orig.yt_true)"
   ]
  },
  {
   "cell_type": "code",
   "execution_count": null,
   "id": "280841bc",
   "metadata": {},
   "outputs": [],
   "source": [
    "#\n",
    "# Diferenciación simple de la serie\n",
    "#\n",
    "df_orig = df_orig.assign(yt_d1_true=df_orig.yt_true.diff(1))\n",
    "display(df_orig.yt_d1_true.head(15))\n",
    "functions.plot_time_series(df_orig, yt_col=\"yt_d1_true\")"
   ]
  },
  {
   "cell_type": "code",
   "execution_count": null,
   "id": "9afa9d80",
   "metadata": {},
   "outputs": [],
   "source": [
    "#\n",
    "# Correlogramas simple y parcial\n",
    "#\n",
    "functions.acf_pacf_plots(df_orig.yt_d1_true.dropna())"
   ]
  }
 ],
 "metadata": {
  "kernelspec": {
   "display_name": ".venv",
   "language": "python",
   "name": "python3"
  },
  "language_info": {
   "codemirror_mode": {
    "name": "ipython",
    "version": 3
   },
   "file_extension": ".py",
   "mimetype": "text/x-python",
   "name": "python",
   "nbconvert_exporter": "python",
   "pygments_lexer": "ipython3",
   "version": "3.12.3"
  }
 },
 "nbformat": 4,
 "nbformat_minor": 5
}
